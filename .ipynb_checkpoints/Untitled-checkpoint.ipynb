{
 "cells": [
  {
   "cell_type": "code",
   "execution_count": 8,
   "metadata": {},
   "outputs": [],
   "source": [
    "# Libraries to import\n",
    "import requests\n",
    "from bs4 import BeautifulSoup\n",
    "import pandas as pd\n",
    "from sqlalchemy import create_engine\n",
    "import sqlite3\n"
   ]
  },
  {
   "cell_type": "code",
   "execution_count": 3,
   "metadata": {},
   "outputs": [],
   "source": [
    "base = \"https://www.marktplaats.nl\"\n",
    "link = \"https://www.marktplaats.nl/l/auto-s/bmw\"\n",
    "data = requests.get(link)\n",
    "\n",
    "# parsen van de pagina in html om daaruit de gegevens uit te halen\n",
    "soup = BeautifulSoup(data.content, \"html.parser\")\n",
    "\n",
    "# Vind alle advertenties op marktplaats\n",
    "advertentie = soup.find_all('li',{'class':'mp-Listing mp-Listing--list-item'})\n",
    "\n",
    "# Sla de links naar de advertenties op in de variabele advertentie_link\n",
    "advertentie_link = []\n",
    "for i in range(len(advertentie)):\n",
    "    advertentie_link.append(base+advertentie[i].a['href'])"
   ]
  },
  {
   "cell_type": "code",
   "execution_count": 110,
   "metadata": {},
   "outputs": [
    {
     "ename": "IndexError",
     "evalue": "list index out of range",
     "output_type": "error",
     "traceback": [
      "\u001b[1;31m---------------------------------------------------------------------------\u001b[0m",
      "\u001b[1;31mIndexError\u001b[0m                                Traceback (most recent call last)",
      "\u001b[1;32m<ipython-input-110-b317a95447a9>\u001b[0m in \u001b[0;36m<module>\u001b[1;34m\u001b[0m\n\u001b[0;32m      9\u001b[0m \u001b[1;33m\u001b[0m\u001b[0m\n\u001b[0;32m     10\u001b[0m     \u001b[1;32mfor\u001b[0m \u001b[0mi\u001b[0m \u001b[1;32min\u001b[0m \u001b[0mrange\u001b[0m\u001b[1;33m(\u001b[0m\u001b[0mlen\u001b[0m\u001b[1;33m(\u001b[0m\u001b[0mInformation_adv\u001b[0m\u001b[1;33m)\u001b[0m\u001b[1;33m)\u001b[0m\u001b[1;33m:\u001b[0m\u001b[1;33m\u001b[0m\u001b[1;33m\u001b[0m\u001b[0m\n\u001b[1;32m---> 11\u001b[1;33m         \u001b[0mkeys\u001b[0m\u001b[1;33m.\u001b[0m\u001b[0mappend\u001b[0m\u001b[1;33m(\u001b[0m\u001b[0mInformationtable_adv\u001b[0m\u001b[1;33m[\u001b[0m\u001b[0mi\u001b[0m\u001b[1;33m]\u001b[0m\u001b[1;33m.\u001b[0m\u001b[0mfind\u001b[0m\u001b[1;33m(\u001b[0m\u001b[1;34m'span'\u001b[0m\u001b[1;33m,\u001b[0m\u001b[1;33m{\u001b[0m\u001b[1;34m'class'\u001b[0m\u001b[1;33m:\u001b[0m\u001b[1;34m'key'\u001b[0m\u001b[1;33m}\u001b[0m\u001b[1;33m)\u001b[0m\u001b[1;33m.\u001b[0m\u001b[0mtext\u001b[0m\u001b[1;33m.\u001b[0m\u001b[0mreplace\u001b[0m\u001b[1;33m(\u001b[0m\u001b[1;34m':'\u001b[0m\u001b[1;33m,\u001b[0m\u001b[1;34m''\u001b[0m\u001b[1;33m)\u001b[0m\u001b[1;33m)\u001b[0m\u001b[1;33m\u001b[0m\u001b[1;33m\u001b[0m\u001b[0m\n\u001b[0m\u001b[0;32m     12\u001b[0m         \u001b[0mvalues\u001b[0m\u001b[1;33m.\u001b[0m\u001b[0mappend\u001b[0m\u001b[1;33m(\u001b[0m\u001b[0mInformationtable_adv\u001b[0m\u001b[1;33m[\u001b[0m\u001b[0mi\u001b[0m\u001b[1;33m]\u001b[0m\u001b[1;33m.\u001b[0m\u001b[0mfind\u001b[0m\u001b[1;33m(\u001b[0m\u001b[1;34m'span'\u001b[0m\u001b[1;33m,\u001b[0m\u001b[1;33m{\u001b[0m\u001b[1;34m'class'\u001b[0m\u001b[1;33m:\u001b[0m\u001b[1;34m'value'\u001b[0m\u001b[1;33m}\u001b[0m\u001b[1;33m)\u001b[0m\u001b[1;33m.\u001b[0m\u001b[0mtext\u001b[0m\u001b[1;33m)\u001b[0m\u001b[1;33m\u001b[0m\u001b[1;33m\u001b[0m\u001b[0m\n\u001b[0;32m     13\u001b[0m \u001b[1;33m\u001b[0m\u001b[0m\n",
      "\u001b[1;31mIndexError\u001b[0m: list index out of range"
     ]
    }
   ],
   "source": [
    "for adv in range(len(advertentie_link)):\n",
    "    data_adv = requests.get(advertentie_link[adv])\n",
    "    soup_adv = BeautifulSoup(data_adv.content, 'html.parser')\n",
    "\n",
    "    Informationtable_adv = soup_adv.find_all('div',{'class':'spec-table-item'})\n",
    "\n",
    "    keys = []\n",
    "    values = []\n",
    "\n",
    "    for i in range(len(Information_adv)):\n",
    "        keys.append(Informationtable_adv[i].find('span',{'class':'key'}).text.replace(':',''))\n",
    "        values.append(Informationtable_adv[i].find('span',{'class':'value'}).text)\n",
    "\n",
    "#     data = {}\n",
    "#     for n in range(len(keys)):\n",
    "#         data[keys[n]] = values[n]\n"
   ]
  },
  {
   "cell_type": "code",
   "execution_count": 105,
   "metadata": {},
   "outputs": [],
   "source": [
    "df = pd.DataFrame(data, index=['1'])"
   ]
  },
  {
   "cell_type": "code",
   "execution_count": 106,
   "metadata": {},
   "outputs": [
    {
     "data": {
      "text/html": [
       "<div>\n",
       "<style scoped>\n",
       "    .dataframe tbody tr th:only-of-type {\n",
       "        vertical-align: middle;\n",
       "    }\n",
       "\n",
       "    .dataframe tbody tr th {\n",
       "        vertical-align: top;\n",
       "    }\n",
       "\n",
       "    .dataframe thead th {\n",
       "        text-align: right;\n",
       "    }\n",
       "</style>\n",
       "<table border=\"1\" class=\"dataframe\">\n",
       "  <thead>\n",
       "    <tr style=\"text-align: right;\">\n",
       "      <th></th>\n",
       "      <th>Merk &amp; Model</th>\n",
       "      <th>Bouwjaar</th>\n",
       "      <th>Uitvoering</th>\n",
       "      <th>Carrosserie</th>\n",
       "      <th>Kenteken</th>\n",
       "      <th>APK tot</th>\n",
       "      <th>Brandstof</th>\n",
       "      <th>Kilometerstand</th>\n",
       "      <th>Transmissie</th>\n",
       "      <th>Energielabel</th>\n",
       "      <th>Verbruik</th>\n",
       "      <th>Prijs</th>\n",
       "      <th>Motorinhoud</th>\n",
       "      <th>Topsnelheid</th>\n",
       "      <th>Kosten p/m</th>\n",
       "      <th>Vermogen</th>\n",
       "      <th>Opties</th>\n",
       "    </tr>\n",
       "  </thead>\n",
       "  <tbody>\n",
       "    <tr>\n",
       "      <th>1</th>\n",
       "      <td>Bmw 4-SERIE</td>\n",
       "      <td>2015</td>\n",
       "      <td>2.0 420D GRAN COUPE AUT</td>\n",
       "      <td>Sedan</td>\n",
       "      <td>GT-651-S</td>\n",
       "      <td>20 augustus 2021</td>\n",
       "      <td>Diesel</td>\n",
       "      <td>173.762 km</td>\n",
       "      <td>Automaat 8 versnellingen</td>\n",
       "      <td>B</td>\n",
       "      <td>25 km/l</td>\n",
       "      <td>€ 23.950,00</td>\n",
       "      <td>1.995 cc</td>\n",
       "      <td>228 km/h</td>\n",
       "      <td>€ 340,93</td>\n",
       "      <td>191 pk</td>\n",
       "      <td>\\n\\nABS\\nAirbags\\nBekleding leder\\nBoordcomput...</td>\n",
       "    </tr>\n",
       "  </tbody>\n",
       "</table>\n",
       "</div>"
      ],
      "text/plain": [
       "  Merk & Model Bouwjaar               Uitvoering Carrosserie  Kenteken  \\\n",
       "1  Bmw 4-SERIE     2015  2.0 420D GRAN COUPE AUT       Sedan  GT-651-S   \n",
       "\n",
       "            APK tot Brandstof Kilometerstand               Transmissie  \\\n",
       "1  20 augustus 2021    Diesel     173.762 km  Automaat 8 versnellingen   \n",
       "\n",
       "  Energielabel Verbruik        Prijs Motorinhoud Topsnelheid Kosten p/m  \\\n",
       "1            B  25 km/l  € 23.950,00    1.995 cc    228 km/h   € 340,93   \n",
       "\n",
       "  Vermogen                                             Opties  \n",
       "1   191 pk  \\n\\nABS\\nAirbags\\nBekleding leder\\nBoordcomput...  "
      ]
     },
     "execution_count": 106,
     "metadata": {},
     "output_type": "execute_result"
    }
   ],
   "source": [
    "df"
   ]
  },
  {
   "cell_type": "code",
   "execution_count": 107,
   "metadata": {},
   "outputs": [
    {
     "data": {
      "text/plain": [
       "34"
      ]
     },
     "execution_count": 107,
     "metadata": {},
     "output_type": "execute_result"
    }
   ],
   "source": [
    "len(advertentie_link)"
   ]
  },
  {
   "cell_type": "code",
   "execution_count": null,
   "metadata": {},
   "outputs": [],
   "source": []
  }
 ],
 "metadata": {
  "kernelspec": {
   "display_name": "Python 3",
   "language": "python",
   "name": "python3"
  },
  "language_info": {
   "codemirror_mode": {
    "name": "ipython",
    "version": 3
   },
   "file_extension": ".py",
   "mimetype": "text/x-python",
   "name": "python",
   "nbconvert_exporter": "python",
   "pygments_lexer": "ipython3",
   "version": "3.8.5"
  }
 },
 "nbformat": 4,
 "nbformat_minor": 4
}
